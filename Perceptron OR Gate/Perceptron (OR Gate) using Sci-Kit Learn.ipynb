{
 "cells": [
  {
   "cell_type": "code",
   "execution_count": 1,
   "id": "30a2c3f4",
   "metadata": {},
   "outputs": [
    {
     "name": "stdout",
     "output_type": "stream",
     "text": [
      "Predicted Outputs: [0 1 1 1]\n",
      "Accuracy: 1.0\n"
     ]
    }
   ],
   "source": [
    "from sklearn.linear_model import Perceptron\n",
    "from sklearn.metrics import accuracy_score\n",
    "import matplotlib.pyplot as plt\n",
    "import numpy as np\n",
    "\n",
    "# Define input and output data for the OR gate truth table\n",
    "X = [[0, 0], [0, 1], [1, 0], [1, 1]]\n",
    "y = [0, 1, 1, 1]  # Output corresponding to each input pair\n",
    "\n",
    "# Create a Perceptron model\n",
    "ppn = Perceptron()\n",
    "\n",
    "# Train the Perceptron using the OR gate input-output pairs\n",
    "ppn.fit(X, y)\n",
    "\n",
    "# Predict the outputs for the input data\n",
    "predicted_output = ppn.predict(X)\n",
    "\n",
    "# Calculate accuracy by comparing predicted outputs with actual outputs\n",
    "accuracy = accuracy_score(y, predicted_output)\n",
    "\n",
    "# Display predicted outputs and accuracy\n",
    "print(\"Predicted Outputs:\", predicted_output)\n",
    "print(\"Accuracy:\", accuracy)\n"
   ]
  },
  {
   "cell_type": "code",
   "execution_count": 2,
   "id": "4baf483f",
   "metadata": {},
   "outputs": [
    {
     "name": "stdout",
     "output_type": "stream",
     "text": [
      "Predicted Outputs for[[1, 0]]: [1]\n"
     ]
    }
   ],
   "source": [
    "new_ip=[[1,0]]\n",
    "predicted_output_new=ppn.predict(new_ip)\n",
    "print(f\"Predicted Outputs for{new_ip}: {predicted_output_new}\")"
   ]
  },
  {
   "cell_type": "code",
   "execution_count": 3,
   "id": "c01921dd",
   "metadata": {},
   "outputs": [
    {
     "data": {
      "text/plain": [
       "<matplotlib.collections.PathCollection at 0x1ef21faf510>"
      ]
     },
     "execution_count": 3,
     "metadata": {},
     "output_type": "execute_result"
    },
    {
     "data": {
      "image/png": "[encoded data removed]",
      "text/plain": [
       "<Figure size 800x600 with 1 Axes>"
      ]
     },
     "metadata": {},
     "output_type": "display_data"
    }
   ],
   "source": [
    "arr=np.array(X)\n",
    "a=arr[:,0]\n",
    "b=arr[:,1]\n",
    "plt.figure(figsize=(8, 6))\n",
    "plt.scatter(a,b)"
   ]
  },
  {
   "cell_type": "code",
   "execution_count": null,
   "id": "1b47243e",
   "metadata": {},
   "outputs": [],
   "source": []
  }
 ],
 "metadata": {
  "kernelspec": {
   "display_name": "Python 3 (ipykernel)",
   "language": "python",
   "name": "python3"
  },
  "language_info": {
   "codemirror_mode": {
    "name": "ipython",
    "version": 3
   },
   "file_extension": ".py",
   "mimetype": "text/x-python",
   "name": "python",
   "nbconvert_exporter": "python",
   "pygments_lexer": "ipython3",
   "version": "3.11.8"
  }
 },
 "nbformat": 4,
 "nbformat_minor": 5
}
