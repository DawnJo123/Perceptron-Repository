{
 "cells": [
  {
   "cell_type": "code",
   "execution_count": 4,
   "id": "0ef9376a",
   "metadata": {},
   "outputs": [
    {
     "name": "stdout",
     "output_type": "stream",
     "text": [
      "Predicted Outputs: [0 0 0 1]\n",
      "Accuracy: 1.0\n"
     ]
    }
   ],
   "source": [
    "from sklearn.linear_model import Perceptron\n",
    "from sklearn.metrics import accuracy_score\n",
    "\n",
    "# Define input and output data for the AND gate truth table\n",
    "X = [[0, 0], [0, 1], [1, 0], [1, 1]]\n",
    "Y = [0, 0, 0, 1]  # Output corresponding to each input pair\n",
    "\n",
    "# Create a Perceptron model\n",
    "ppn = Perceptron()\n",
    "\n",
    "# Train the Perceptron using the AND gate input-output pairs\n",
    "ppn.fit(X, Y)\n",
    "\n",
    "# Predict the outputs for the input data\n",
    "predicted_output = ppn.predict(X)\n",
    "\n",
    "# Calculate accuracy by comparing predicted outputs with actual outputs\n",
    "accuracy = accuracy_score(Y, predicted_output)\n",
    "\n",
    "# Display predicted outputs and accuracy\n",
    "print(\"Predicted Outputs:\", predicted_output)\n",
    "print(\"Accuracy:\", accuracy) "
   ]
  },
  {
   "cell_type": "code",
   "execution_count": 5,
   "id": "31648212",
   "metadata": {},
   "outputs": [
    {
     "name": "stdout",
     "output_type": "stream",
     "text": [
      "Predicted output for [[1, 0]]: [0]\n"
     ]
    }
   ],
   "source": [
    "new_input=[[1,0]]\n",
    "predicted_output_new=ppn.predict(new_input)\n",
    "print(f\"Predicted output for {new_input}: {predicted_output_new}\")"
   ]
  }
 ],
 "metadata": {
  "kernelspec": {
   "display_name": "Python 3 (ipykernel)",
   "language": "python",
   "name": "python3"
  },
  "language_info": {
   "codemirror_mode": {
    "name": "ipython",
    "version": 3
   },
   "file_extension": ".py",
   "mimetype": "text/x-python",
   "name": "python",
   "nbconvert_exporter": "python",
   "pygments_lexer": "ipython3",
   "version": "3.11.8"
  }
 },
 "nbformat": 4,
 "nbformat_minor": 5
}
